{
 "cells": [
  {
   "cell_type": "code",
   "execution_count": 1,
   "id": "9b301732",
   "metadata": {},
   "outputs": [
    {
     "name": "stderr",
     "output_type": "stream",
     "text": [
      "C:\\Users\\laksh\\anaconda3\\lib\\site-packages\\statsmodels\\compat\\pandas.py:61: FutureWarning: pandas.Int64Index is deprecated and will be removed from pandas in a future version. Use pandas.Index with the appropriate dtype instead.\n",
      "  from pandas import Int64Index as NumericIndex\n"
     ]
    }
   ],
   "source": [
    "import numpy as np\n",
    "import pandas as pd\n",
    "import matplotlib.pyplot as plt\n",
    "from sklearn.model_selection import train_test_split, cross_val_predict, KFold #Splitting the data to training & testing set.\n",
    "from sklearn.impute import SimpleImputer #Handling Null values\n",
    "from sklearn.compose import ColumnTransformer #Column Transformer.\n",
    "from sklearn.preprocessing import OneHotEncoder, LabelEncoder, StandardScaler #Data Preprocessing\n",
    "from sklearn.linear_model import LinearRegression #Linear Regression.\n",
    "from sklearn.preprocessing import PolynomialFeatures #Polynomial Regression\n",
    "from sklearn.svm import SVR #Support Vector Machines\n",
    "from sklearn.tree import DecisionTreeRegressor #Decision Tress     \n",
    "from sklearn.ensemble import RandomForestRegressor #Random Forest\n",
    "from sklearn.metrics import mean_absolute_error, mean_squared_error, r2_score\n",
    "import statsmodels.api as sm\n",
    "from sklearn.pipeline import make_pipeline\n",
    "from math import sqrt"
   ]
  },
  {
   "cell_type": "code",
   "execution_count": 50,
   "id": "a7536787",
   "metadata": {},
   "outputs": [
    {
     "data": {
      "text/html": [
       "<div>\n",
       "<style scoped>\n",
       "    .dataframe tbody tr th:only-of-type {\n",
       "        vertical-align: middle;\n",
       "    }\n",
       "\n",
       "    .dataframe tbody tr th {\n",
       "        vertical-align: top;\n",
       "    }\n",
       "\n",
       "    .dataframe thead th {\n",
       "        text-align: right;\n",
       "    }\n",
       "</style>\n",
       "<table border=\"1\" class=\"dataframe\">\n",
       "  <thead>\n",
       "    <tr style=\"text-align: right;\">\n",
       "      <th></th>\n",
       "      <th>R&amp;D Spend</th>\n",
       "      <th>Administration</th>\n",
       "      <th>Marketing Spend</th>\n",
       "      <th>State</th>\n",
       "      <th>Profit</th>\n",
       "    </tr>\n",
       "  </thead>\n",
       "  <tbody>\n",
       "    <tr>\n",
       "      <th>0</th>\n",
       "      <td>165349.20</td>\n",
       "      <td>136897.80</td>\n",
       "      <td>471784.10</td>\n",
       "      <td>New York</td>\n",
       "      <td>192261.83</td>\n",
       "    </tr>\n",
       "    <tr>\n",
       "      <th>1</th>\n",
       "      <td>162597.70</td>\n",
       "      <td>151377.59</td>\n",
       "      <td>443898.53</td>\n",
       "      <td>California</td>\n",
       "      <td>191792.06</td>\n",
       "    </tr>\n",
       "    <tr>\n",
       "      <th>2</th>\n",
       "      <td>153441.51</td>\n",
       "      <td>101145.55</td>\n",
       "      <td>407934.54</td>\n",
       "      <td>Florida</td>\n",
       "      <td>191050.39</td>\n",
       "    </tr>\n",
       "    <tr>\n",
       "      <th>3</th>\n",
       "      <td>144372.41</td>\n",
       "      <td>118671.85</td>\n",
       "      <td>383199.62</td>\n",
       "      <td>New York</td>\n",
       "      <td>182901.99</td>\n",
       "    </tr>\n",
       "    <tr>\n",
       "      <th>4</th>\n",
       "      <td>142107.34</td>\n",
       "      <td>91391.77</td>\n",
       "      <td>366168.42</td>\n",
       "      <td>Florida</td>\n",
       "      <td>166187.94</td>\n",
       "    </tr>\n",
       "  </tbody>\n",
       "</table>\n",
       "</div>"
      ],
      "text/plain": [
       "   R&D Spend  Administration  Marketing Spend       State     Profit\n",
       "0  165349.20       136897.80        471784.10    New York  192261.83\n",
       "1  162597.70       151377.59        443898.53  California  191792.06\n",
       "2  153441.51       101145.55        407934.54     Florida  191050.39\n",
       "3  144372.41       118671.85        383199.62    New York  182901.99\n",
       "4  142107.34        91391.77        366168.42     Florida  166187.94"
      ]
     },
     "execution_count": 50,
     "metadata": {},
     "output_type": "execute_result"
    }
   ],
   "source": [
    "data = pd.read_csv(r\"D:\\Data Science\\Machine+Learning+A-Z+(Codes+and+Datasets)\\Machine Learning A-Z (Codes and Datasets)\\Part 2 - Regression\\Section 5 - Multiple Linear Regression\\Python\\50_Startups.csv\")\n",
    "data.head()"
   ]
  },
  {
   "cell_type": "code",
   "execution_count": 51,
   "id": "4ee8c0ae",
   "metadata": {},
   "outputs": [
    {
     "data": {
      "text/plain": [
       "array(['New York', 'California', 'Florida'], dtype=object)"
      ]
     },
     "execution_count": 51,
     "metadata": {},
     "output_type": "execute_result"
    }
   ],
   "source": [
    "data.State.unique()"
   ]
  },
  {
   "cell_type": "code",
   "execution_count": 52,
   "id": "22e0be6b",
   "metadata": {},
   "outputs": [],
   "source": [
    "X = data.iloc[:, :-1].values\n",
    "y = data.iloc[:, -1].values"
   ]
  },
  {
   "cell_type": "code",
   "execution_count": 53,
   "id": "db87ff01",
   "metadata": {},
   "outputs": [],
   "source": [
    "ct = ColumnTransformer(transformers=[('encoder', OneHotEncoder(drop = 'first'), [3])], remainder='passthrough')\n",
    "X = ct.fit_transform(X)"
   ]
  },
  {
   "cell_type": "code",
   "execution_count": 54,
   "id": "0cabfdd3",
   "metadata": {},
   "outputs": [
    {
     "data": {
      "text/plain": [
       "array([[0.0, 1.0, 165349.2, 136897.8, 471784.1],\n",
       "       [0.0, 0.0, 162597.7, 151377.59, 443898.53],\n",
       "       [1.0, 0.0, 153441.51, 101145.55, 407934.54],\n",
       "       [0.0, 1.0, 144372.41, 118671.85, 383199.62],\n",
       "       [1.0, 0.0, 142107.34, 91391.77, 366168.42]], dtype=object)"
      ]
     },
     "execution_count": 54,
     "metadata": {},
     "output_type": "execute_result"
    }
   ],
   "source": [
    "X[: 5]"
   ]
  },
  {
   "cell_type": "code",
   "execution_count": 55,
   "id": "02b0ef9a",
   "metadata": {},
   "outputs": [],
   "source": [
    "cv = KFold(n_splits = 5, shuffle = True, random_state = 42)\n",
    "regressor_pipeline = make_pipeline(StandardScaler(), RandomForestRegressor(n_estimators = 10))\n",
    "\n",
    "y_pred = cross_val_predict(regressor_pipeline, X, y, cv = cv)"
   ]
  },
  {
   "cell_type": "code",
   "execution_count": 56,
   "id": "95548782",
   "metadata": {},
   "outputs": [
    {
     "name": "stdout",
     "output_type": "stream",
     "text": [
      "RMSE: 11153.89\n",
      "R_squared: 0.92\n"
     ]
    }
   ],
   "source": [
    "print(\"RMSE: \" + str(round(sqrt(mean_squared_error(y,y_pred)),2)))\n",
    "print(\"R_squared: \" + str(round(r2_score(y,y_pred),2)))"
   ]
  },
  {
   "cell_type": "code",
   "execution_count": 57,
   "id": "f1fae623",
   "metadata": {},
   "outputs": [
    {
     "name": "stdout",
     "output_type": "stream",
     "text": [
      "[[189865.712 192261.83 ]\n",
      " [179330.714 191792.06 ]\n",
      " [169070.98  191050.39 ]\n",
      " [181635.204 182901.99 ]\n",
      " [169217.804 166187.94 ]\n",
      " [160238.775 156991.12 ]\n",
      " [147566.19  156122.51 ]\n",
      " [150688.425 155752.6  ]\n",
      " [146976.746 152211.77 ]\n",
      " [148767.257 149759.96 ]\n",
      " [140557.623 146121.95 ]\n",
      " [137635.494 144259.4  ]\n",
      " [128400.372 141585.52 ]\n",
      " [132176.028 134307.35 ]\n",
      " [148674.491 132602.65 ]\n",
      " [141244.054 129917.04 ]\n",
      " [116478.647 126992.93 ]\n",
      " [134742.572 125370.37 ]\n",
      " [134655.783 124266.9  ]\n",
      " [129441.189 122776.86 ]\n",
      " [110108.784 118474.03 ]\n",
      " [123699.836 111313.02 ]\n",
      " [110126.979 110352.25 ]\n",
      " [107037.844 108733.99 ]\n",
      " [113453.61  108552.04 ]\n",
      " [100374.046 107404.34 ]\n",
      " [113471.391 105733.54 ]\n",
      " [110664.363 105008.31 ]\n",
      " [103530.405 103282.38 ]\n",
      " [105265.023 101004.64 ]\n",
      " [ 98801.588  99937.59 ]\n",
      " [ 99467.215  97483.56 ]\n",
      " [ 96565.841  97427.84 ]\n",
      " [100481.614  96778.92 ]\n",
      " [ 92299.875  96712.8  ]\n",
      " [ 93565.583  96479.51 ]\n",
      " [ 69027.738  90708.19 ]\n",
      " [ 87485.291  89949.14 ]\n",
      " [ 66722.267  81229.06 ]\n",
      " [ 88448.752  81005.76 ]\n",
      " [ 70935.107  78239.91 ]\n",
      " [ 82829.665  77798.83 ]\n",
      " [ 69823.419  71498.49 ]\n",
      " [ 65204.82   69758.98 ]\n",
      " [ 73527.641  65200.33 ]\n",
      " [ 27218.936  64926.08 ]\n",
      " [ 59881.942  49490.75 ]\n",
      " [ 32364.72   42559.73 ]\n",
      " [ 20950.168  35673.41 ]\n",
      " [ 49547.583  14681.4  ]]\n"
     ]
    }
   ],
   "source": [
    "print(np.concatenate((y_pred.reshape(len(y_pred),1), y.reshape(len(y),1)),1))"
   ]
  },
  {
   "cell_type": "code",
   "execution_count": 58,
   "id": "1e18f44a",
   "metadata": {},
   "outputs": [],
   "source": [
    "X_train, X_test, y_train, y_test = train_test_split(X, y, test_size = 0.2, \n",
    "                                                   random_state = 42,\n",
    "                                                   shuffle = True)"
   ]
  },
  {
   "cell_type": "code",
   "execution_count": 60,
   "id": "d3c62100",
   "metadata": {},
   "outputs": [
    {
     "data": {
      "text/plain": [
       "((40, 5), (40,))"
      ]
     },
     "execution_count": 60,
     "metadata": {},
     "output_type": "execute_result"
    }
   ],
   "source": [
    "X_train.shape, y_train.shape"
   ]
  },
  {
   "cell_type": "code",
   "execution_count": 62,
   "id": "c6f9586c",
   "metadata": {},
   "outputs": [
    {
     "name": "stdout",
     "output_type": "stream",
     "text": [
      "RMSE       :  9055.957323497822\n",
      "R_squared  :  0.8987266414319834\n"
     ]
    }
   ],
   "source": [
    "linear_regressor = LinearRegression(fit_intercept = True).fit(X_train, y_train)\n",
    "linear_y_pred = linear_regressor.predict(X_test)\n",
    "\n",
    "print(\"RMSE       : \",sqrt(mean_squared_error(y_test, linear_y_pred)))\n",
    "print(\"R_squared  : \",r2_score(y_test, linear_y_pred))"
   ]
  },
  {
   "cell_type": "code",
   "execution_count": 116,
   "id": "8e626b2f",
   "metadata": {},
   "outputs": [
    {
     "name": "stdout",
     "output_type": "stream",
     "text": [
      "RMSE       :  13318.218512699052\n",
      "R_squared  :  0.7809623604460533\n"
     ]
    }
   ],
   "source": [
    "tree_regressor = DecisionTreeRegressor(criterion = \"squared_error\",\n",
    "                                       max_features = \"sqrt\",\n",
    "                                      min_samples_split=17, ccp_alpha = 0.00008).fit(X_train, y_train)\n",
    "tree_y_pred = tree_regressor.predict(X_test)\n",
    "print(\"RMSE       : \",sqrt(mean_squared_error(y_test, tree_y_pred)))\n",
    "print(\"R_squared  : \",r2_score(y_test, tree_y_pred))"
   ]
  },
  {
   "cell_type": "code",
   "execution_count": 117,
   "id": "7dc2f4a7",
   "metadata": {},
   "outputs": [
    {
     "name": "stdout",
     "output_type": "stream",
     "text": [
      "RMSE       :  10976.725893987155\n",
      "R_squared  :  0.851210557295637\n"
     ]
    }
   ],
   "source": [
    "forest_regressor = RandomForestRegressor(n_estimators = 10).fit(X_train, y_train)\n",
    "forest_y_pred = forest_regressor.predict(X_test)\n",
    "print(\"RMSE       : \",sqrt(mean_squared_error(y_test, forest_y_pred)))\n",
    "print(\"R_squared  : \",r2_score(y_test, forest_y_pred))"
   ]
  },
  {
   "cell_type": "code",
   "execution_count": null,
   "id": "5eebf9c4",
   "metadata": {},
   "outputs": [],
   "source": []
  },
  {
   "cell_type": "code",
   "execution_count": null,
   "id": "a74fe394",
   "metadata": {},
   "outputs": [],
   "source": []
  },
  {
   "cell_type": "code",
   "execution_count": null,
   "id": "311bb9d7",
   "metadata": {},
   "outputs": [],
   "source": []
  },
  {
   "cell_type": "code",
   "execution_count": null,
   "id": "623d91ec",
   "metadata": {},
   "outputs": [],
   "source": []
  }
 ],
 "metadata": {
  "kernelspec": {
   "display_name": "Python 3 (ipykernel)",
   "language": "python",
   "name": "python3"
  },
  "language_info": {
   "codemirror_mode": {
    "name": "ipython",
    "version": 3
   },
   "file_extension": ".py",
   "mimetype": "text/x-python",
   "name": "python",
   "nbconvert_exporter": "python",
   "pygments_lexer": "ipython3",
   "version": "3.8.5"
  }
 },
 "nbformat": 4,
 "nbformat_minor": 5
}
