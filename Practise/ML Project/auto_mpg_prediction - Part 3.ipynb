{
 "cells": [
  {
   "cell_type": "markdown",
   "metadata": {},
   "source": [
    "## Predicting Fuel Efficiency of Vehicles - Part 3\n",
    "1. Selecting and Training Models\n",
    "2. Select and Train a few Algorithms(Linear Regression, Decision Tree, RandomForest)\n",
    "3. Evaluation using Mean Squared Error\n",
    "4. Model Evaluation using Cross Validation\n",
    "5. Hyperparameter Tuning using GridSearchCV\n",
    "6. Check Feature Importance\n",
    "7. Evaluate the Final System on test data\n",
    "8. Saving the Model"
   ]
  },
  {
   "cell_type": "code",
   "execution_count": 1,
   "metadata": {},
   "outputs": [],
   "source": [
    "import numpy as np\n",
    "import pandas as pd\n",
    "import matplotlib.pyplot as plt\n",
    "import seaborn as sns\n",
    "\n",
    "from sklearn.model_selection import StratifiedShuffleSplit\n",
    "from sklearn.preprocessing import StandardScaler, OneHotEncoder\n",
    "from sklearn.impute import SimpleImputer\n",
    "from sklearn.base import BaseEstimator, TransformerMixin\n",
    "from sklearn.compose import ColumnTransformer\n",
    "from sklearn.pipeline import Pipeline"
   ]
  },
  {
   "cell_type": "code",
   "execution_count": 2,
   "metadata": {},
   "outputs": [],
   "source": [
    "import warnings\n",
    "\n",
    "warnings.filterwarnings('ignore')"
   ]
  },
  {
   "cell_type": "code",
   "execution_count": 3,
   "metadata": {},
   "outputs": [],
   "source": [
    "# reading the .data file using pandas\n",
    "\n",
    "cols = ['MPG','Cylinders','Displacement','Horsepower','Weight',\n",
    "                'Acceleration', 'Model Year', 'Origin']\n",
    "\n",
    "df = pd.read_csv('./auto-mpg.data', names = cols, comment = '\\t', sep = \" \", na_values = \"?\", skipinitialspace = True)\n",
    "\n",
    "data = df.copy()"
   ]
  },
  {
   "cell_type": "code",
   "execution_count": 4,
   "metadata": {},
   "outputs": [
    {
     "data": {
      "text/html": [
       "<div>\n",
       "<style scoped>\n",
       "    .dataframe tbody tr th:only-of-type {\n",
       "        vertical-align: middle;\n",
       "    }\n",
       "\n",
       "    .dataframe tbody tr th {\n",
       "        vertical-align: top;\n",
       "    }\n",
       "\n",
       "    .dataframe thead th {\n",
       "        text-align: right;\n",
       "    }\n",
       "</style>\n",
       "<table border=\"1\" class=\"dataframe\">\n",
       "  <thead>\n",
       "    <tr style=\"text-align: right;\">\n",
       "      <th></th>\n",
       "      <th>MPG</th>\n",
       "      <th>Cylinders</th>\n",
       "      <th>Displacement</th>\n",
       "      <th>Horsepower</th>\n",
       "      <th>Weight</th>\n",
       "      <th>Acceleration</th>\n",
       "      <th>Model Year</th>\n",
       "      <th>Origin</th>\n",
       "    </tr>\n",
       "  </thead>\n",
       "  <tbody>\n",
       "    <tr>\n",
       "      <th>0</th>\n",
       "      <td>18.0</td>\n",
       "      <td>8</td>\n",
       "      <td>307.0</td>\n",
       "      <td>130.0</td>\n",
       "      <td>3504.0</td>\n",
       "      <td>12.0</td>\n",
       "      <td>70</td>\n",
       "      <td>1</td>\n",
       "    </tr>\n",
       "    <tr>\n",
       "      <th>1</th>\n",
       "      <td>15.0</td>\n",
       "      <td>8</td>\n",
       "      <td>350.0</td>\n",
       "      <td>165.0</td>\n",
       "      <td>3693.0</td>\n",
       "      <td>11.5</td>\n",
       "      <td>70</td>\n",
       "      <td>1</td>\n",
       "    </tr>\n",
       "    <tr>\n",
       "      <th>2</th>\n",
       "      <td>18.0</td>\n",
       "      <td>8</td>\n",
       "      <td>318.0</td>\n",
       "      <td>150.0</td>\n",
       "      <td>3436.0</td>\n",
       "      <td>11.0</td>\n",
       "      <td>70</td>\n",
       "      <td>1</td>\n",
       "    </tr>\n",
       "    <tr>\n",
       "      <th>3</th>\n",
       "      <td>16.0</td>\n",
       "      <td>8</td>\n",
       "      <td>304.0</td>\n",
       "      <td>150.0</td>\n",
       "      <td>3433.0</td>\n",
       "      <td>12.0</td>\n",
       "      <td>70</td>\n",
       "      <td>1</td>\n",
       "    </tr>\n",
       "    <tr>\n",
       "      <th>4</th>\n",
       "      <td>17.0</td>\n",
       "      <td>8</td>\n",
       "      <td>302.0</td>\n",
       "      <td>140.0</td>\n",
       "      <td>3449.0</td>\n",
       "      <td>10.5</td>\n",
       "      <td>70</td>\n",
       "      <td>1</td>\n",
       "    </tr>\n",
       "  </tbody>\n",
       "</table>\n",
       "</div>"
      ],
      "text/plain": [
       "    MPG  Cylinders  Displacement  Horsepower  Weight  Acceleration  \\\n",
       "0  18.0          8         307.0       130.0  3504.0          12.0   \n",
       "1  15.0          8         350.0       165.0  3693.0          11.5   \n",
       "2  18.0          8         318.0       150.0  3436.0          11.0   \n",
       "3  16.0          8         304.0       150.0  3433.0          12.0   \n",
       "4  17.0          8         302.0       140.0  3449.0          10.5   \n",
       "\n",
       "   Model Year  Origin  \n",
       "0          70       1  \n",
       "1          70       1  \n",
       "2          70       1  \n",
       "3          70       1  \n",
       "4          70       1  "
      ]
     },
     "execution_count": 4,
     "metadata": {},
     "output_type": "execute_result"
    }
   ],
   "source": [
    "data.head()"
   ]
  },
  {
   "cell_type": "code",
   "execution_count": 5,
   "metadata": {},
   "outputs": [],
   "source": [
    "split = StratifiedShuffleSplit(n_splits = 1, random_state = 42, test_size = 0.2)\n",
    "\n",
    "for train_index, test_index in split.split(data, data['Cylinders']):\n",
    "    strat_train_set = data.loc[train_index]\n",
    "    strat_test_set = data.loc[test_index]"
   ]
  },
  {
   "cell_type": "code",
   "execution_count": 6,
   "metadata": {},
   "outputs": [
    {
     "data": {
      "text/html": [
       "<div>\n",
       "<style scoped>\n",
       "    .dataframe tbody tr th:only-of-type {\n",
       "        vertical-align: middle;\n",
       "    }\n",
       "\n",
       "    .dataframe tbody tr th {\n",
       "        vertical-align: top;\n",
       "    }\n",
       "\n",
       "    .dataframe thead th {\n",
       "        text-align: right;\n",
       "    }\n",
       "</style>\n",
       "<table border=\"1\" class=\"dataframe\">\n",
       "  <thead>\n",
       "    <tr style=\"text-align: right;\">\n",
       "      <th></th>\n",
       "      <th>Cylinders</th>\n",
       "      <th>Displacement</th>\n",
       "      <th>Horsepower</th>\n",
       "      <th>Weight</th>\n",
       "      <th>Acceleration</th>\n",
       "      <th>Model Year</th>\n",
       "      <th>Origin</th>\n",
       "    </tr>\n",
       "  </thead>\n",
       "  <tbody>\n",
       "    <tr>\n",
       "      <th>145</th>\n",
       "      <td>4</td>\n",
       "      <td>83.0</td>\n",
       "      <td>61.0</td>\n",
       "      <td>2003.0</td>\n",
       "      <td>19.0</td>\n",
       "      <td>74</td>\n",
       "      <td>3</td>\n",
       "    </tr>\n",
       "    <tr>\n",
       "      <th>151</th>\n",
       "      <td>4</td>\n",
       "      <td>79.0</td>\n",
       "      <td>67.0</td>\n",
       "      <td>2000.0</td>\n",
       "      <td>16.0</td>\n",
       "      <td>74</td>\n",
       "      <td>2</td>\n",
       "    </tr>\n",
       "    <tr>\n",
       "      <th>388</th>\n",
       "      <td>4</td>\n",
       "      <td>156.0</td>\n",
       "      <td>92.0</td>\n",
       "      <td>2585.0</td>\n",
       "      <td>14.5</td>\n",
       "      <td>82</td>\n",
       "      <td>1</td>\n",
       "    </tr>\n",
       "    <tr>\n",
       "      <th>48</th>\n",
       "      <td>6</td>\n",
       "      <td>250.0</td>\n",
       "      <td>88.0</td>\n",
       "      <td>3139.0</td>\n",
       "      <td>14.5</td>\n",
       "      <td>71</td>\n",
       "      <td>1</td>\n",
       "    </tr>\n",
       "    <tr>\n",
       "      <th>114</th>\n",
       "      <td>4</td>\n",
       "      <td>98.0</td>\n",
       "      <td>90.0</td>\n",
       "      <td>2265.0</td>\n",
       "      <td>15.5</td>\n",
       "      <td>73</td>\n",
       "      <td>2</td>\n",
       "    </tr>\n",
       "  </tbody>\n",
       "</table>\n",
       "</div>"
      ],
      "text/plain": [
       "     Cylinders  Displacement  Horsepower  Weight  Acceleration  Model Year  \\\n",
       "145          4          83.0        61.0  2003.0          19.0          74   \n",
       "151          4          79.0        67.0  2000.0          16.0          74   \n",
       "388          4         156.0        92.0  2585.0          14.5          82   \n",
       "48           6         250.0        88.0  3139.0          14.5          71   \n",
       "114          4          98.0        90.0  2265.0          15.5          73   \n",
       "\n",
       "     Origin  \n",
       "145       3  \n",
       "151       2  \n",
       "388       1  \n",
       "48        1  \n",
       "114       2  "
      ]
     },
     "execution_count": 6,
     "metadata": {},
     "output_type": "execute_result"
    }
   ],
   "source": [
    "#segregating the features\n",
    "\n",
    "data = strat_train_set.drop(['MPG'], axis = 1)\n",
    "data_labels = strat_train_set['MPG'].copy()\n",
    "\n",
    "data.head()"
   ]
  },
  {
   "cell_type": "code",
   "execution_count": 7,
   "metadata": {},
   "outputs": [
    {
     "data": {
      "text/plain": [
       "145    32.0\n",
       "151    31.0\n",
       "388    26.0\n",
       "48     18.0\n",
       "114    26.0\n",
       "Name: MPG, dtype: float64"
      ]
     },
     "execution_count": 7,
     "metadata": {},
     "output_type": "execute_result"
    }
   ],
   "source": [
    "data_labels.head()"
   ]
  },
  {
   "cell_type": "code",
   "execution_count": 8,
   "metadata": {},
   "outputs": [],
   "source": [
    "#preprocessing origin column in data\n",
    "\n",
    "def preprocess_origin_col(df):\n",
    "    df['Origin'] = df['Origin'].map({1 : 'India', 2 : 'USA', 3 : 'Germany'})\n",
    "    return df"
   ]
  },
  {
   "cell_type": "code",
   "execution_count": 9,
   "metadata": {},
   "outputs": [],
   "source": [
    "##creating custom attribute adder class\n",
    "acc_ix, hpower_ix, cyl_ix = 4,2, 0\n",
    "\n",
    "class CustomAttrAdder(BaseEstimator, TransformerMixin):\n",
    "    def __init__(self, acc_on_power=True): # no *args or **kargs\n",
    "        self.acc_on_power = acc_on_power\n",
    "    def fit(self, X, y=None):\n",
    "        return self  # nothing else to do\n",
    "    def transform(self, X):\n",
    "        acc_on_cyl = X[:, acc_ix] / X[:, cyl_ix]\n",
    "        if self.acc_on_power:\n",
    "            acc_on_power = X[:, acc_ix] / X[:, hpower_ix]\n",
    "            return np.c_[X, acc_on_power, acc_on_cyl]\n",
    "        \n",
    "        return np.c_[X, acc_on_cyl]"
   ]
  },
  {
   "cell_type": "code",
   "execution_count": 10,
   "metadata": {},
   "outputs": [],
   "source": [
    "def num_pipeline_transformer(data):\n",
    "    ''''\n",
    "    Function to process numerical transformations\n",
    "    Argument:\n",
    "        data: original dataframe \n",
    "    Returns:\n",
    "        num_attrs: numerical dataframe\n",
    "        num_pipeline: numerical pipeline object\n",
    "        \n",
    "    '''\n",
    "    numerics = ['float64', 'int64']\n",
    "    num_attrs = data.select_dtypes(include = numerics)\n",
    "    num_pipeline = Pipeline([\n",
    "        ('imputer',SimpleImputer(strategy = 'median')),\n",
    "        ('attrs_adder', CustomAttrAdder()),\n",
    "        ('std_scaler', StandardScaler()),     \n",
    "    ])\n",
    "    \n",
    "    return num_attrs, num_pipeline\n",
    "\n",
    "def pipeline_transformer(data):\n",
    "    ''''\n",
    "    Complete transformation pipeline for both\n",
    "    nuerical and categorical data.\n",
    "    \n",
    "    Argument:\n",
    "        data: original dataframe \n",
    "    Returns:\n",
    "        prepared_data: transformed data, ready to use\n",
    "    '''\n",
    "    cat_attrs = ['Origin']\n",
    "    num_attrs, num_pipeline = num_pipeline_transformer(data)\n",
    "    full_pipeline = ColumnTransformer([\n",
    "        (\"num\", num_pipeline, list(num_attrs)),\n",
    "        (\"cat\", OneHotEncoder(), cat_attrs),\n",
    "        ])\n",
    "    prepared_data = full_pipeline.fit_transform(data)\n",
    "    return prepared_data"
   ]
  },
  {
   "cell_type": "markdown",
   "metadata": {},
   "source": [
    "## From raw data to processed data in 2 steps"
   ]
  },
  {
   "cell_type": "code",
   "execution_count": 11,
   "metadata": {},
   "outputs": [
    {
     "data": {
      "text/plain": [
       "array([-0.85657842, -1.07804475, -1.15192977, -1.17220298,  1.21586943,\n",
       "       -0.54436373,  1.70952741,  1.29565517,  1.        ,  0.        ,\n",
       "        0.        ])"
      ]
     },
     "execution_count": 11,
     "metadata": {},
     "output_type": "execute_result"
    }
   ],
   "source": [
    "preprocessed_df = preprocess_origin_col(data)\n",
    "prepared_data = pipeline_transformer(preprocessed_df)\n",
    "prepared_data[0]"
   ]
  },
  {
   "cell_type": "markdown",
   "metadata": {},
   "source": [
    "# Selecting and Training Models\n",
    "\n",
    "1. Linear Regression\n",
    "2. Decision Tree\n",
    "3. Random Forest\n",
    "4. SVM regressor"
   ]
  },
  {
   "cell_type": "code",
   "execution_count": 12,
   "metadata": {},
   "outputs": [
    {
     "data": {
      "text/plain": [
       "LinearRegression()"
      ]
     },
     "execution_count": 12,
     "metadata": {},
     "output_type": "execute_result"
    }
   ],
   "source": [
    "from sklearn.linear_model import LinearRegression\n",
    "\n",
    "lin_reg = LinearRegression()\n",
    "lin_reg.fit(prepared_data, data_labels)"
   ]
  },
  {
   "cell_type": "code",
   "execution_count": 13,
   "metadata": {},
   "outputs": [
    {
     "name": "stdout",
     "output_type": "stream",
     "text": [
      "Prediction of sample data [29.08069379 27.78336755 26.08031176 12.70419279 22.23454159]\n"
     ]
    }
   ],
   "source": [
    "##testing the predictions with the \n",
    "\n",
    "sample_data = data.iloc[:5]\n",
    "sample_labels = data_labels.iloc[:5]\n",
    "\n",
    "sample_data_prepared = pipeline_transformer(sample_data)\n",
    "print(\"Prediction of sample data\", lin_reg.predict(sample_data_prepared))"
   ]
  },
  {
   "cell_type": "code",
   "execution_count": 14,
   "metadata": {},
   "outputs": [
    {
     "name": "stdout",
     "output_type": "stream",
     "text": [
      "Actual Labels of Samples [32.0, 31.0, 26.0, 18.0, 26.0]\n"
     ]
    }
   ],
   "source": [
    "print(\"Actual Labels of Samples\", list(sample_labels))"
   ]
  },
  {
   "cell_type": "markdown",
   "metadata": {},
   "source": [
    "## Mean squared Error"
   ]
  },
  {
   "cell_type": "code",
   "execution_count": 15,
   "metadata": {},
   "outputs": [
    {
     "data": {
      "text/plain": [
       "2.9590402225760863"
      ]
     },
     "execution_count": 15,
     "metadata": {},
     "output_type": "execute_result"
    }
   ],
   "source": [
    "from sklearn.metrics import mean_squared_error\n",
    "\n",
    "mpg_predictions = lin_reg.predict(prepared_data)\n",
    "lin_mse = mean_squared_error(data_labels, mpg_predictions)\n",
    "lin_rmse = np.sqrt(lin_mse)\n",
    "lin_rmse"
   ]
  },
  {
   "cell_type": "markdown",
   "metadata": {},
   "source": [
    "## Decision Tree"
   ]
  },
  {
   "cell_type": "code",
   "execution_count": 16,
   "metadata": {},
   "outputs": [
    {
     "data": {
      "text/plain": [
       "DecisionTreeRegressor()"
      ]
     },
     "execution_count": 16,
     "metadata": {},
     "output_type": "execute_result"
    }
   ],
   "source": [
    "from sklearn.tree import DecisionTreeRegressor\n",
    "\n",
    "tree_reg = DecisionTreeRegressor()\n",
    "tree_reg.fit(prepared_data, data_labels)"
   ]
  },
  {
   "cell_type": "code",
   "execution_count": 17,
   "metadata": {},
   "outputs": [
    {
     "data": {
      "text/plain": [
       "0.0"
      ]
     },
     "execution_count": 17,
     "metadata": {},
     "output_type": "execute_result"
    }
   ],
   "source": [
    "mpg_predictions = tree_reg.predict(prepared_data)\n",
    "tree_mse = mean_squared_error(data_labels, mpg_predictions)\n",
    "tree_rmse = np.sqrt(tree_mse)\n",
    "tree_mse"
   ]
  },
  {
   "cell_type": "code",
   "execution_count": 18,
   "metadata": {},
   "outputs": [
    {
     "data": {
      "text/plain": [
       "3.1482537380009044"
      ]
     },
     "execution_count": 18,
     "metadata": {},
     "output_type": "execute_result"
    }
   ],
   "source": [
    "## Model Evaluation using cross Validation\n",
    "from sklearn.model_selection import cross_val_score\n",
    "\n",
    "scores = cross_val_score(tree_reg, \n",
    "                          prepared_data,\n",
    "                          data_labels,\n",
    "                          cv = 10,\n",
    "                          scoring = \"neg_mean_squared_error\")\n",
    "\n",
    "tree_reg_rmse_scores = np.sqrt(-scores)\n",
    "tree_reg_rmse_scores.mean()"
   ]
  },
  {
   "cell_type": "code",
   "execution_count": 19,
   "metadata": {},
   "outputs": [
    {
     "data": {
      "text/plain": [
       "3.0757081793709324"
      ]
     },
     "execution_count": 19,
     "metadata": {},
     "output_type": "execute_result"
    }
   ],
   "source": [
    "scores = cross_val_score(lin_reg,\n",
    "                        prepared_data,\n",
    "                        data_labels,\n",
    "                        cv = 10,\n",
    "                        scoring = \"neg_mean_squared_error\")\n",
    "lin_reg_rmse_scores = np.sqrt(-scores)\n",
    "lin_reg_rmse_scores.mean()"
   ]
  },
  {
   "cell_type": "markdown",
   "metadata": {},
   "source": [
    "## Random Forest Model"
   ]
  },
  {
   "cell_type": "code",
   "execution_count": 20,
   "metadata": {},
   "outputs": [
    {
     "data": {
      "text/plain": [
       "3.0757081793709324"
      ]
     },
     "execution_count": 20,
     "metadata": {},
     "output_type": "execute_result"
    }
   ],
   "source": [
    "from sklearn.ensemble import RandomForestRegressor\n",
    "\n",
    "forest_reg = RandomForestRegressor()\n",
    "forest_reg.fit(prepared_data, data_labels)\n",
    "\n",
    "forest_reg_cv_scores = cross_val_score(forest_reg,\n",
    "                        prepared_data,\n",
    "                        data_labels,\n",
    "                        cv = 10,\n",
    "                        scoring = \"neg_mean_squared_error\")\n",
    "\n",
    "forest_reg_rmse_scores = np.sqrt(-scores)\n",
    "forest_reg_rmse_scores.mean()"
   ]
  },
  {
   "cell_type": "markdown",
   "metadata": {},
   "source": [
    "## Support Vector Machine"
   ]
  },
  {
   "cell_type": "code",
   "execution_count": 21,
   "metadata": {},
   "outputs": [
    {
     "data": {
      "text/plain": [
       "3.08659162080283"
      ]
     },
     "execution_count": 21,
     "metadata": {},
     "output_type": "execute_result"
    }
   ],
   "source": [
    "from sklearn.svm import SVR\n",
    "\n",
    "svr_reg = SVR(kernel = 'linear')\n",
    "svr_reg.fit(prepared_data, data_labels)\n",
    "\n",
    "svr_cv_scores = cross_val_score(svr_reg,\n",
    "                               prepared_data,\n",
    "                               data_labels,\n",
    "                               cv = 10,\n",
    "                               scoring = \"neg_mean_squared_error\")\n",
    "svr_rmse_scores = np.sqrt(-svr_cv_scores)\n",
    "svr_rmse_scores.mean()"
   ]
  },
  {
   "cell_type": "markdown",
   "metadata": {},
   "source": [
    "## Hyper Parameter tuning using Grid Search CV"
   ]
  },
  {
   "cell_type": "code",
   "execution_count": 22,
   "metadata": {},
   "outputs": [
    {
     "data": {
      "text/plain": [
       "GridSearchCV(cv=10, estimator=RandomForestRegressor(),\n",
       "             param_grid=[{'max_features': [2, 4, 6, 8],\n",
       "                          'n_estimators': [3, 10, 30]},\n",
       "                         {'bootstrap': [False], 'max_features': [2, 3, 4],\n",
       "                          'n_estimators': [3, 10]}],\n",
       "             return_train_score=True, scoring='neg_mean_squared_error')"
      ]
     },
     "execution_count": 22,
     "metadata": {},
     "output_type": "execute_result"
    }
   ],
   "source": [
    "from sklearn.model_selection import GridSearchCV\n",
    "\n",
    "param_grid = [{'n_estimators' : [3, 10, 30],'max_features' : [2, 4, 6, 8]},\n",
    "             {'bootstrap' : [False], 'n_estimators' : [3, 10], 'max_features' : [2, 3, 4]},]\n",
    "\n",
    "forest_reg = RandomForestRegressor()\n",
    "\n",
    "grid_search = GridSearchCV(forest_reg, param_grid,\n",
    "                          scoring = \"neg_mean_squared_error\",\n",
    "                          cv = 10,\n",
    "                          return_train_score = True)\n",
    "\n",
    "grid_search.fit(prepared_data, data_labels)"
   ]
  },
  {
   "cell_type": "code",
   "execution_count": 23,
   "metadata": {},
   "outputs": [
    {
     "data": {
      "text/plain": [
       "RandomForestRegressor(max_features=6, n_estimators=30)"
      ]
     },
     "execution_count": 23,
     "metadata": {},
     "output_type": "execute_result"
    }
   ],
   "source": [
    "grid_search.best_estimator_"
   ]
  },
  {
   "cell_type": "code",
   "execution_count": 24,
   "metadata": {},
   "outputs": [
    {
     "data": {
      "text/plain": [
       "{'max_features': 6, 'n_estimators': 30}"
      ]
     },
     "execution_count": 24,
     "metadata": {},
     "output_type": "execute_result"
    }
   ],
   "source": [
    "grid_search.best_params_"
   ]
  },
  {
   "cell_type": "code",
   "execution_count": 25,
   "metadata": {},
   "outputs": [
    {
     "data": {
      "text/plain": [
       "{'mean_fit_time': array([0.00935848, 0.02512641, 0.06888325, 0.00788784, 0.02739742,\n",
       "        0.07244701, 0.00937421, 0.02574522, 0.08010168, 0.00946233,\n",
       "        0.03125122, 0.09002504, 0.00468688, 0.02052133, 0.00919805,\n",
       "        0.02369843, 0.00937421, 0.02030947]),\n",
       " 'std_fit_time': array([5.72201561e-03, 7.50423241e-03, 5.34493288e-03, 7.03117186e-03,\n",
       "        7.96130763e-03, 7.09256662e-03, 7.65401346e-03, 6.06831772e-03,\n",
       "        5.02398040e-03, 6.83523963e-03, 1.70486623e-05, 5.76781465e-03,\n",
       "        7.15932763e-03, 6.23804587e-03, 2.54745649e-03, 5.99189967e-03,\n",
       "        7.65401305e-03, 7.16002018e-03]),\n",
       " 'mean_score_time': array([0.00010636, 0.00312457, 0.00862021, 0.00224187, 0.00489187,\n",
       "        0.00548716, 0.00312455, 0.00392463, 0.0047895 , 0.00156243,\n",
       "        0.00156214, 0.00554264, 0.        , 0.00316277, 0.00080523,\n",
       "        0.00010478, 0.        , 0.00312483]),\n",
       " 'std_score_time': array([0.00031908, 0.00624914, 0.00737462, 0.00489908, 0.00705099,\n",
       "        0.00703721, 0.00624909, 0.00630987, 0.00638312, 0.00468729,\n",
       "        0.00468643, 0.00612997, 0.        , 0.00521658, 0.00147354,\n",
       "        0.00031435, 0.        , 0.00624967]),\n",
       " 'param_max_features': masked_array(data=[2, 2, 2, 4, 4, 4, 6, 6, 6, 8, 8, 8, 2, 2, 3, 3, 4, 4],\n",
       "              mask=[False, False, False, False, False, False, False, False,\n",
       "                    False, False, False, False, False, False, False, False,\n",
       "                    False, False],\n",
       "        fill_value='?',\n",
       "             dtype=object),\n",
       " 'param_n_estimators': masked_array(data=[3, 10, 30, 3, 10, 30, 3, 10, 30, 3, 10, 30, 3, 10, 3,\n",
       "                    10, 3, 10],\n",
       "              mask=[False, False, False, False, False, False, False, False,\n",
       "                    False, False, False, False, False, False, False, False,\n",
       "                    False, False],\n",
       "        fill_value='?',\n",
       "             dtype=object),\n",
       " 'param_bootstrap': masked_array(data=[--, --, --, --, --, --, --, --, --, --, --, --, False,\n",
       "                    False, False, False, False, False],\n",
       "              mask=[ True,  True,  True,  True,  True,  True,  True,  True,\n",
       "                     True,  True,  True,  True, False, False, False, False,\n",
       "                    False, False],\n",
       "        fill_value='?',\n",
       "             dtype=object),\n",
       " 'params': [{'max_features': 2, 'n_estimators': 3},\n",
       "  {'max_features': 2, 'n_estimators': 10},\n",
       "  {'max_features': 2, 'n_estimators': 30},\n",
       "  {'max_features': 4, 'n_estimators': 3},\n",
       "  {'max_features': 4, 'n_estimators': 10},\n",
       "  {'max_features': 4, 'n_estimators': 30},\n",
       "  {'max_features': 6, 'n_estimators': 3},\n",
       "  {'max_features': 6, 'n_estimators': 10},\n",
       "  {'max_features': 6, 'n_estimators': 30},\n",
       "  {'max_features': 8, 'n_estimators': 3},\n",
       "  {'max_features': 8, 'n_estimators': 10},\n",
       "  {'max_features': 8, 'n_estimators': 30},\n",
       "  {'bootstrap': False, 'max_features': 2, 'n_estimators': 3},\n",
       "  {'bootstrap': False, 'max_features': 2, 'n_estimators': 10},\n",
       "  {'bootstrap': False, 'max_features': 3, 'n_estimators': 3},\n",
       "  {'bootstrap': False, 'max_features': 3, 'n_estimators': 10},\n",
       "  {'bootstrap': False, 'max_features': 4, 'n_estimators': 3},\n",
       "  {'bootstrap': False, 'max_features': 4, 'n_estimators': 10}],\n",
       " 'split0_test_score': array([ -8.20541667,  -9.17362188,  -6.24453958, -13.3775    ,\n",
       "         -4.31011562,  -5.60421563,  -4.26163194,  -6.77326562,\n",
       "         -5.91301076, -15.01423611,  -8.78914062,  -5.57535764,\n",
       "         -9.30854167,  -5.668775  ,  -6.88638889,  -7.72385312,\n",
       "         -6.66652778,  -5.72553125]),\n",
       " 'split1_test_score': array([-16.71399306, -11.00501563,  -7.15531458,  -9.21180556,\n",
       "         -8.59535312,  -6.73534757, -15.08100694,  -7.30546563,\n",
       "         -6.59985312,  -6.52038194,  -5.60017188,  -7.32575694,\n",
       "        -10.30635417,  -6.865725  ,  -6.75111111,  -7.31845312,\n",
       "        -11.25868056,  -6.83867813]),\n",
       " 'split2_test_score': array([ -9.59597222, -10.38188437,  -9.21734792, -10.78309028,\n",
       "        -10.964475  ,  -7.84391042, -11.06854167,  -8.20989063,\n",
       "         -7.94901701,  -8.80697917,  -8.61523125,  -6.981525  ,\n",
       "         -6.6375    ,  -7.29015312, -13.63131944,  -7.1510125 ,\n",
       "        -11.27954861,  -7.91841875]),\n",
       " 'split3_test_score': array([ -9.38913194,  -9.38049062,  -7.37802326,  -9.42833333,\n",
       "         -6.43944687,  -7.2292066 ,  -8.2765625 ,  -7.4368875 ,\n",
       "         -6.64191944,  -9.82479167,  -5.24679687,  -6.75627743,\n",
       "        -16.95329861,  -5.08834687,  -8.86597222,  -7.97865   ,\n",
       "        -17.908125  ,  -5.18810625]),\n",
       " 'split4_test_score': array([-8.98579861, -5.89760625, -6.65752187, -7.19048611, -3.89030938,\n",
       "        -4.85695035, -3.72069444, -6.13534688, -4.03519722, -3.97555556,\n",
       "        -5.558625  , -4.15055035, -5.4621875 , -5.11225   , -4.59947917,\n",
       "        -4.26089687, -6.20791667, -5.81881875]),\n",
       " 'split5_test_score': array([-16.49215278,  -7.48708438,  -8.79188368, -10.39371528,\n",
       "         -8.93644062,  -7.37060486, -10.59069444,  -8.2381625 ,\n",
       "         -6.6749559 ,  -7.28729167,  -7.47435   ,  -6.82083021,\n",
       "         -9.61020833,  -9.078475  , -10.31572917,  -7.58625313,\n",
       "         -8.73267361,  -9.46625   ]),\n",
       " 'split6_test_score': array([-16.00666667, -13.32462188,  -9.90698194,  -7.95909722,\n",
       "        -14.37778438, -10.90232188, -14.16045139, -10.14394687,\n",
       "        -10.25250417, -11.63149306,  -8.43605313,  -7.43232361,\n",
       "        -17.55909722,  -9.438275  ,  -9.32930556, -11.10873437,\n",
       "        -16.31944444,  -7.45755625]),\n",
       " 'split7_test_score': array([ -7.07930556,  -4.22476563,  -3.85827326,  -5.21708333,\n",
       "         -4.63271875,  -3.85842778, -11.02177083,  -6.42812188,\n",
       "         -3.35922083,  -8.24347222,  -5.95820938,  -5.51052257,\n",
       "         -5.54579861,  -4.57516875,  -6.92010417,  -4.903725  ,\n",
       "         -8.32940972,  -6.5070625 ]),\n",
       " 'split8_test_score': array([-20.82634409, -18.84413226, -18.91406774, -19.73867384,\n",
       "        -16.66717742, -17.49681326, -19.60964158, -18.30736774,\n",
       "        -16.83343871, -18.71695341, -18.61458387, -18.90303441,\n",
       "        -15.91827957, -17.48067097, -15.9844086 , -14.67564194,\n",
       "        -18.44283154, -20.21610323]),\n",
       " 'split9_test_score': array([-14.59060932,  -9.04880645,  -5.32961685,  -4.01462366,\n",
       "         -5.80362903,  -4.94515986,  -6.57057348,  -3.94093548,\n",
       "         -3.66763333,  -3.9609319 ,  -5.01217097,  -3.94703262,\n",
       "         -7.98569892,  -5.3806129 ,  -6.83845878,  -3.97296452,\n",
       "         -7.9055914 ,  -3.59075484]),\n",
       " 'mean_test_score': array([-12.78853909,  -9.87680293,  -8.34535707,  -9.73144086,\n",
       "         -8.46174502,  -7.68429582, -10.43615692,  -8.29193907,\n",
       "         -7.19267505,  -9.39820867,  -7.9305333 ,  -7.34032108,\n",
       "        -10.52869646,  -7.59784526,  -9.01222771,  -7.66801846,\n",
       "        -11.30507493,  -7.87272799]),\n",
       " 'std_test_score': array([4.44010924, 3.85674832, 3.92350404, 4.21905207, 4.15675655,\n",
       "        3.77271025, 4.7243342 , 3.67171509, 3.77531762, 4.43777277,\n",
       "        3.82732913, 4.03233222, 4.40724992, 3.66237812, 3.31624488,\n",
       "        3.07155202, 4.40703991, 4.38609697]),\n",
       " 'rank_test_score': array([18, 14,  9, 13, 10,  5, 15,  8,  1, 12,  7,  2, 16,  3, 11,  4, 17,\n",
       "         6]),\n",
       " 'split0_train_score': array([-2.30033023e+00, -1.69556643e+00, -1.31269791e+00, -3.25740870e+00,\n",
       "        -1.68526329e+00, -1.29355921e+00, -2.32463092e+00, -1.47242133e+00,\n",
       "        -1.12137133e+00, -4.08495726e+00, -1.73524056e+00, -1.22745326e+00,\n",
       "        -8.38509494e-31, -6.99300699e-05, -8.38509494e-31, -1.39860140e-04,\n",
       "        -8.38509494e-31, -6.35501932e-30]),\n",
       " 'split1_train_score': array([-3.46218337e+00, -1.87665385e+00, -1.18600929e+00, -3.01905983e+00,\n",
       "        -1.35317622e+00, -1.28280680e+00, -2.65103341e+00, -1.39163462e+00,\n",
       "        -1.03358722e+00, -1.98889666e+00, -1.54763182e+00, -1.08118512e+00,\n",
       "        -1.55400155e-03, -1.39860140e-04, -7.50245336e-31, -6.99300699e-05,\n",
       "        -7.50245336e-31, -6.99300699e-05]),\n",
       " 'split2_train_score': array([-3.22546232e+00, -1.21640804e+00, -1.38473256e+00, -2.90658508e+00,\n",
       "        -1.66057063e+00, -1.22764810e+00, -1.98036908e+00, -1.27190490e+00,\n",
       "        -1.38357591e+00, -2.65218726e+00, -1.18943811e+00, -1.25510249e+00,\n",
       "        -9.32400932e-03, -1.39860140e-04, -8.38509494e-31, -6.99300699e-05,\n",
       "        -8.38509494e-31, -5.42824567e-30]),\n",
       " 'split3_train_score': array([-2.76868298e+00, -1.84536608e+00, -1.59880287e+00, -2.37512821e+00,\n",
       "        -1.36663601e+00, -1.23559701e+00, -1.94914141e+00, -1.29573077e+00,\n",
       "        -1.08518193e+00, -2.43360528e+00, -1.54921748e+00, -1.17102681e+00,\n",
       "        -8.38509494e-31, -6.99300699e-05, -8.38509494e-31, -6.04609477e-30,\n",
       "        -8.38509494e-31, -6.04609477e-30]),\n",
       " 'split4_train_score': array([-3.48328283e+00, -1.66122133e+00, -1.27461659e+00, -3.10735043e+00,\n",
       "        -2.05114930e+00, -1.08799697e+00, -2.65486402e+00, -1.53923112e+00,\n",
       "        -1.38609549e+00, -2.46796426e+00, -1.45196294e+00, -1.12474083e+00,\n",
       "        -7.94377415e-31, -2.09790210e-04, -1.94250194e-04, -6.99300699e-05,\n",
       "        -7.94377415e-31, -6.57567971e-30]),\n",
       " 'split5_train_score': array([-3.17643357e+00, -2.04929266e+00, -1.25694037e+00, -3.09864025e+00,\n",
       "        -1.61242483e+00, -1.11148815e+00, -3.55799922e+00, -1.30471399e+00,\n",
       "        -1.19479821e+00, -2.00719891e+00, -1.47304161e+00, -1.27861573e+00,\n",
       "        -1.94250194e-04, -1.74825175e-05, -7.94377415e-31, -8.74125874e-05,\n",
       "        -7.94377415e-31, -6.04609477e-30]),\n",
       " 'split6_train_score': array([-2.55856643e+00, -1.40208357e+00, -1.17286908e+00, -2.27858974e+00,\n",
       "        -1.50170175e+00, -1.09954219e+00, -2.32196970e+00, -1.35494755e+00,\n",
       "        -1.09489421e+00, -2.45178710e+00, -1.24465979e+00, -1.11502078e+00,\n",
       "        -6.99300699e-03, -6.99300699e-05, -8.38509494e-31, -6.99300699e-05,\n",
       "        -8.38509494e-31, -5.86956646e-30]),\n",
       " 'split7_train_score': array([-3.47818182e+00, -2.02524720e+00, -1.48331072e+00, -2.56248640e+00,\n",
       "        -1.47288357e+00, -1.08406939e+00, -3.25255245e+00, -1.71742657e+00,\n",
       "        -1.03853733e+00, -3.17839161e+00, -1.27062762e+00, -1.05032203e+00,\n",
       "        -3.10800311e-03, -1.55594406e-03, -7.94377415e-31, -1.74825175e-05,\n",
       "        -7.94377415e-31, -1.39860140e-04]),\n",
       " 'split8_train_score': array([-3.12921409e+00, -1.58135923e+00, -1.08701951e+00, -2.42975997e+00,\n",
       "        -1.15610871e+00, -1.04708010e+00, -2.88928765e+00, -1.24553240e+00,\n",
       "        -9.99148122e-01, -2.42970577e+00, -1.21182927e+00, -1.04649446e+00,\n",
       "        -7.47631241e-31, -5.93707162e-30, -7.47631241e-31, -5.93707162e-30,\n",
       "        -7.47631241e-31, -5.93707162e-30]),\n",
       " 'split9_train_score': array([-3.58557491e+00, -2.03477178e+00, -1.34090321e+00, -2.83825784e+00,\n",
       "        -1.56455087e+00, -1.30112319e+00, -2.33898180e+00, -1.41168223e+00,\n",
       "        -1.06227367e+00, -2.81145567e+00, -1.61852230e+00, -1.31199191e+00,\n",
       "        -7.03652933e-31, -5.89309331e-30, -7.03652933e-31, -5.89309331e-30,\n",
       "        -7.03652933e-31, -5.89309331e-30]),\n",
       " 'mean_train_score': array([-3.11679125e+00, -1.73879702e+00, -1.30979021e+00, -2.78732664e+00,\n",
       "        -1.54244652e+00, -1.17709111e+00, -2.59208297e+00, -1.40052255e+00,\n",
       "        -1.13994634e+00, -2.65061498e+00, -1.42921715e+00, -1.16619534e+00,\n",
       "        -2.11732712e-03, -2.27272727e-04, -1.94250194e-05, -5.24475524e-05,\n",
       "        -7.93869973e-31, -2.09790210e-05]),\n",
       " 'std_train_score': array([4.14595816e-01, 2.67462801e-01, 1.44207041e-01, 3.31353769e-01,\n",
       "        2.28254823e-01, 9.48234059e-02, 4.96092843e-01, 1.37055945e-01,\n",
       "        1.32582276e-01, 5.81584167e-01, 1.80086193e-01, 9.21381107e-02,\n",
       "        3.21124419e-03, 4.47497811e-04, 5.82750583e-05, 4.42276596e-05,\n",
       "        4.48907154e-32, 4.47770926e-05])}"
      ]
     },
     "execution_count": 25,
     "metadata": {},
     "output_type": "execute_result"
    }
   ],
   "source": [
    "cv_scores = grid_search.cv_results_\n",
    "\n",
    "cv_scores"
   ]
  },
  {
   "cell_type": "code",
   "execution_count": 26,
   "metadata": {},
   "outputs": [
    {
     "name": "stdout",
     "output_type": "stream",
     "text": [
      "3.5761066945075606 {'max_features': 2, 'n_estimators': 3}\n",
      "3.1427381267722168 {'max_features': 2, 'n_estimators': 10}\n",
      "2.8888331675422987 {'max_features': 2, 'n_estimators': 30}\n",
      "3.1195257428357688 {'max_features': 4, 'n_estimators': 3}\n",
      "2.9089078741275545 {'max_features': 4, 'n_estimators': 10}\n",
      "2.7720562437967238 {'max_features': 4, 'n_estimators': 30}\n",
      "3.230504128157556 {'max_features': 6, 'n_estimators': 3}\n",
      "2.8795727239610818 {'max_features': 6, 'n_estimators': 10}\n",
      "2.681916302109985 {'max_features': 6, 'n_estimators': 30}\n",
      "3.0656497956150894 {'max_features': 8, 'n_estimators': 3}\n",
      "2.8161202560208554 {'max_features': 8, 'n_estimators': 10}\n",
      "2.709302692116361 {'max_features': 8, 'n_estimators': 30}\n",
      "3.2447952879301147 {'bootstrap': False, 'max_features': 2, 'n_estimators': 3}\n",
      "2.756418919920695 {'bootstrap': False, 'max_features': 2, 'n_estimators': 10}\n",
      "3.0020372600241783 {'bootstrap': False, 'max_features': 3, 'n_estimators': 3}\n",
      "2.7691187149815892 {'bootstrap': False, 'max_features': 3, 'n_estimators': 10}\n",
      "3.362302028788565 {'bootstrap': False, 'max_features': 4, 'n_estimators': 3}\n",
      "2.805838198106158 {'bootstrap': False, 'max_features': 4, 'n_estimators': 10}\n"
     ]
    }
   ],
   "source": [
    "for mean_score, params in zip(cv_scores['mean_test_score'], cv_scores['params']):\n",
    "    print(np.sqrt(-mean_score), params)"
   ]
  },
  {
   "cell_type": "markdown",
   "metadata": {},
   "source": [
    "## Checking Feature importance"
   ]
  },
  {
   "cell_type": "code",
   "execution_count": 27,
   "metadata": {},
   "outputs": [
    {
     "data": {
      "text/plain": [
       "array([0.16140887, 0.29379403, 0.15154708, 0.1969338 , 0.01738579,\n",
       "       0.11660091, 0.02940555, 0.02433134, 0.00258282, 0.00385833,\n",
       "       0.00215147])"
      ]
     },
     "execution_count": 27,
     "metadata": {},
     "output_type": "execute_result"
    }
   ],
   "source": [
    "# feature importances \n",
    "\n",
    "feature_importance = grid_search.best_estimator_.feature_importances_\n",
    "feature_importance"
   ]
  },
  {
   "cell_type": "code",
   "execution_count": 28,
   "metadata": {},
   "outputs": [
    {
     "data": {
      "text/plain": [
       "[('acc_on_power', 0.1614088701102614),\n",
       " ('acc_on_cyl', 0.2937940345165303),\n",
       " ('Weight', 0.11660091131701635),\n",
       " ('Model Year', 0.02433134211904557),\n",
       " ('Horsepower', 0.017385793274731675),\n",
       " ('Displacement', 0.19693380371328933),\n",
       " ('Cylinders', 0.1515470808918581),\n",
       " ('Acceleration', 0.029405553613076174)]"
      ]
     },
     "execution_count": 28,
     "metadata": {},
     "output_type": "execute_result"
    }
   ],
   "source": [
    "extra_attrs = [\"acc_on_power\", \"acc_on_cyl\"]\n",
    "numerics = ['float64', 'int64']\n",
    "numeric_attrs = list(data.select_dtypes(include = numerics))\n",
    "\n",
    "attr = extra_attrs + numeric_attrs\n",
    "sorted(zip(attr, feature_importance), reverse = True)"
   ]
  },
  {
   "cell_type": "markdown",
   "metadata": {},
   "source": [
    "## Evaluating the entire system on Test data"
   ]
  },
  {
   "cell_type": "code",
   "execution_count": 29,
   "metadata": {},
   "outputs": [
    {
     "data": {
      "text/plain": [
       "3.1025193167990297"
      ]
     },
     "execution_count": 29,
     "metadata": {},
     "output_type": "execute_result"
    }
   ],
   "source": [
    "final_model = grid_search.best_estimator_\n",
    "\n",
    "X_test = strat_test_set.drop([\"MPG\"], axis = 1)\n",
    "y_test = strat_test_set[\"MPG\"].copy()\n",
    "\n",
    "X_test_preprocessed = preprocess_origin_col(X_test)\n",
    "X_test_prepared = pipeline_transformer(X_test_preprocessed)\n",
    "\n",
    "final_prediction = final_model.predict(X_test_prepared)\n",
    "final_mse = mean_squared_error(y_test, final_prediction)\n",
    "final_rmse = np.sqrt(final_mse)\n",
    "final_rmse"
   ]
  },
  {
   "cell_type": "markdown",
   "metadata": {},
   "source": [
    "## Creating a fuction to cover entire process"
   ]
  },
  {
   "cell_type": "code",
   "execution_count": 30,
   "metadata": {},
   "outputs": [],
   "source": [
    "def predict_mpg(config, model):\n",
    "    \n",
    "    if type(config) == dict:\n",
    "        df = pd.DataFrame(config)\n",
    "    else:\n",
    "        df = config\n",
    "        \n",
    "        \n",
    "    preproc_df = preprocess_origin_col(df)\n",
    "    prepared_df = pipeline_transformer(preproc_df)\n",
    "    y_pred = model.predict(prepared_df)\n",
    "    return y_pred"
   ]
  },
  {
   "cell_type": "code",
   "execution_count": 40,
   "metadata": {},
   "outputs": [
    {
     "data": {
      "text/plain": [
       "array([30.47      , 17.11      , 19.88333333])"
      ]
     },
     "execution_count": 40,
     "metadata": {},
     "output_type": "execute_result"
    }
   ],
   "source": [
    "## Checkking it on random sample\n",
    "\n",
    "vehicle_config = {\n",
    "    'Cylinders' : [4, 6, 8],\n",
    "    'Displacement' : [155.0, 160.0, 165.5],\n",
    "    'Horsepower' : [93.0, 130.0, 98.0],\n",
    "    'Weight' : [2500.0, 3150.0, 2600.0],\n",
    "    'Acceleration' : [15.0, 14.0, 16.0],\n",
    "    'Model Year' : [88, 80, 78],\n",
    "    'Origin' : [3, 2, 1]\n",
    "}\n",
    "\n",
    "predict_mpg(vehicle_config, final_model)"
   ]
  },
  {
   "cell_type": "markdown",
   "metadata": {},
   "source": [
    "## Save the Model"
   ]
  },
  {
   "cell_type": "code",
   "execution_count": 42,
   "metadata": {},
   "outputs": [],
   "source": [
    "import pickle\n",
    "\n",
    "with open('model_bin', \"wb\") as f_out:\n",
    "    pickle.dump(final_model, f_out)\n",
    "    f_out.close()"
   ]
  },
  {
   "cell_type": "code",
   "execution_count": 33,
   "metadata": {},
   "outputs": [
    {
     "data": {
      "text/plain": [
       "array([30.74666667, 17.46666667, 19.96666667])"
      ]
     },
     "execution_count": 33,
     "metadata": {},
     "output_type": "execute_result"
    }
   ],
   "source": [
    "#Loading the model from the saved file\n",
    "\n",
    "with open(\"model_bin\", \"rb\") as f_in:\n",
    "    model = pickle.load(f_in)\n",
    "    \n",
    "predict_mpg(vehicle_config, model)"
   ]
  },
  {
   "cell_type": "code",
   "execution_count": 43,
   "metadata": {},
   "outputs": [
    {
     "data": {
      "text/plain": [
       "'{\\n  \"mpg_predictions\": [\\n    30.469999999999995, \\n    17.11, \\n    19.883333333333333\\n  ]\\n}'"
      ]
     },
     "execution_count": 43,
     "metadata": {},
     "output_type": "execute_result"
    }
   ],
   "source": [
    "import requests\n",
    "\n",
    "url = 'http://127.0.0.1:5000/'\n",
    "r = requests.post(url, json = vehicle_config)\n",
    "r.text.strip()"
   ]
  },
  {
   "cell_type": "code",
   "execution_count": 47,
   "metadata": {},
   "outputs": [
    {
     "data": {
      "text/plain": [
       "'{\"mpg_predictions\":[26.833333333333332,22.313333333333336,16.636666666666667]}'"
      ]
     },
     "execution_count": 47,
     "metadata": {},
     "output_type": "execute_result"
    }
   ],
   "source": [
    "import requests\n",
    "\n",
    "url = 'https://auto-mpg-demo-project.herokuapp.com/'\n",
    "r = requests.post(url, json = vehicle_config)\n",
    "r.text.strip()"
   ]
  },
  {
   "cell_type": "code",
   "execution_count": null,
   "metadata": {},
   "outputs": [],
   "source": []
  }
 ],
 "metadata": {
  "kernelspec": {
   "display_name": "Python 3",
   "language": "python",
   "name": "python3"
  },
  "language_info": {
   "codemirror_mode": {
    "name": "ipython",
    "version": 3
   },
   "file_extension": ".py",
   "mimetype": "text/x-python",
   "name": "python",
   "nbconvert_exporter": "python",
   "pygments_lexer": "ipython3",
   "version": "3.8.5"
  }
 },
 "nbformat": 4,
 "nbformat_minor": 4
}
